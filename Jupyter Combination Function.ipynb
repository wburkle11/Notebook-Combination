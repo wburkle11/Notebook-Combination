{
 "cells": [
  {
   "cell_type": "code",
   "execution_count": 1,
   "id": "71abb7ac-47f4-43c2-a505-a007eddd6fb4",
   "metadata": {},
   "outputs": [],
   "source": [
    "import json\n",
    "\n",
    "def read_ipynb(notebook_path):\n",
    "    with open(notebook_path, 'r', encoding='utf-8') as f:\n",
    "        return json.load(f)"
   ]
  },
  {
   "cell_type": "code",
   "execution_count": 2,
   "id": "b6b11949-75a9-4fb5-b474-edb77dac007d",
   "metadata": {},
   "outputs": [],
   "source": [
    "first_notebook = read_ipynb('AML Homework 1(Question 1).ipynb')\n",
    "second_notebook = read_ipynb('AML Homework 1(Question 2).ipynb')\n",
    "third_notebook = read_ipynb('AML_HW1_3.ipynb')\n",
    "fourth_notebook = read_ipynb('AML_Homework_1_(Question_4B).ipynb')"
   ]
  },
  {
   "cell_type": "code",
   "execution_count": 3,
   "id": "5ebe4763-9187-487d-b55f-1abe3e4736a0",
   "metadata": {},
   "outputs": [],
   "source": [
    "import copy\n",
    "final_notebook = copy.deepcopy(first_notebook)"
   ]
  },
  {
   "cell_type": "code",
   "execution_count": 4,
   "id": "1e84b0d8-9ad2-4401-aab3-76194734a16f",
   "metadata": {},
   "outputs": [],
   "source": [
    "final_notebook['cells'] = first_notebook['cells'] + second_notebook['cells'] + third_notebook['cells'] + fourth_notebook['cells']\n",
    "\n",
    "def write_ipynb(notebook, notebook_path):\n",
    "    with open(notebook_path, 'w', encoding='utf-8') as f:\n",
    "        json.dump(notebook, f)\n",
    "\n",
    "# Saving the resulting notebook\n",
    "write_ipynb(final_notebook, 'HW1_Group_Burkle_DeHaan_Digumarthy.ipynb')"
   ]
  },
  {
   "cell_type": "code",
   "execution_count": null,
   "id": "d7e7e26f-07de-464d-a12d-f19f20832614",
   "metadata": {},
   "outputs": [],
   "source": []
  }
 ],
 "metadata": {
  "kernelspec": {
   "display_name": "Python 3 (ipykernel)",
   "language": "python",
   "name": "python3"
  },
  "language_info": {
   "codemirror_mode": {
    "name": "ipython",
    "version": 3
   },
   "file_extension": ".py",
   "mimetype": "text/x-python",
   "name": "python",
   "nbconvert_exporter": "python",
   "pygments_lexer": "ipython3",
   "version": "3.10.6"
  }
 },
 "nbformat": 4,
 "nbformat_minor": 5
}
